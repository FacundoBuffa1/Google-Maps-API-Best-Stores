{
 "cells": [
  {
   "cell_type": "markdown",
   "metadata": {},
   "source": [
    "### Elección de locales comerciales utilizando la API de Google Maps:\n",
    "\n",
    "* Conexión a \"Places API\" de Google Maps para acceder a información de locales comerciales cercanos.\n",
    "* El objetivo es asignar las coordenadas de nuestra ubicación y buscar locales en un radio de cercanía.\n",
    "* Además podemos asiganar alguna palabra clave del tipo de local/artículo/comida en que estamos interesados.\n",
    "* Podremos elegir entre aquellos locales con mayor rating."
   ]
  },
  {
   "cell_type": "code",
   "execution_count": null,
   "metadata": {},
   "outputs": [],
   "source": [
    "# Instalamos la biblioteca de googlemaps\n",
    " \n",
    "pip install -U googlemaps"
   ]
  },
  {
   "cell_type": "code",
   "execution_count": 3,
   "metadata": {},
   "outputs": [],
   "source": [
    "# Principales librerías\n",
    "\n",
    "import googlemaps\n",
    "from datetime import datetime\n",
    "import pprint\n",
    "import time\n",
    "import pandas as pd"
   ]
  },
  {
   "cell_type": "code",
   "execution_count": 38,
   "metadata": {},
   "outputs": [],
   "source": [
    "# Ingresamos nuestra API Key generada desde Google Cloud Platform\n",
    "\n",
    "gmaps = googlemaps.Client(key= 'Ingresar_API_Key')"
   ]
  },
  {
   "cell_type": "code",
   "execution_count": 39,
   "metadata": {},
   "outputs": [],
   "source": [
    "# Define los parámetros de nuestra búsqueda\n",
    "\n",
    "ubicacion = (-70.995509, -44.184060)  #Nuestras coordenadas\n",
    "distancia = 0.1  #Radio en millas\n",
    "palabra_clave = 'cafe'  #Que estamos buscando? Pizza, cafe, deportes, fotocopias, etc.\n",
    "business_list = []"
   ]
  },
  {
   "cell_type": "code",
   "execution_count": null,
   "metadata": {},
   "outputs": [],
   "source": [
    "# Busqueda por ceracanía (places_nearby)\n",
    "\n",
    "places_result = gmaps.places_nearby(location= ubicacion, radius= distancia, open_now= False, keyword= palabra_clave)\n",
    "pprint.pprint(places_result)"
   ]
  },
  {
   "cell_type": "code",
   "execution_count": 41,
   "metadata": {},
   "outputs": [],
   "source": [
    "# En caso de que nuestra consulta arroje varias páginas de resultados \"next_page_token\"\n",
    "\n",
    "business_list.extend(places_result.get('results'))\n",
    "next_page_token = places_result.get('next_page_token')"
   ]
  },
  {
   "cell_type": "code",
   "execution_count": 42,
   "metadata": {},
   "outputs": [],
   "source": [
    "# Armamos un bucle while para traer todos los resultados de cada página\n",
    "\n",
    "while next_page_token:\n",
    "    time.sleep(2)\n",
    "    places_result = gmaps.places_nearby(location= ubicacion, radius= distancia, open_now= False, keyword= palabra_clave, page_token=next_page_token)\n",
    "    business_list.extend(places_result.get('results'))\n",
    "    next_page_token = places_result.get('next_page_token')\n",
    "\n",
    "\n",
    "# Creamos un DataFrame con los resultados y lo exportamos a excel\n",
    "\n",
    "df = pd.DataFrame(business_list)\n",
    "df['url'] = 'https://www.google.com.ar/maps/place/?q=place_id:'+ df['place_id']\n",
    "df.to_excel('store_results.xlsx', index=False)"
   ]
  },
  {
   "cell_type": "code",
   "execution_count": 54,
   "metadata": {},
   "outputs": [
    {
     "data": {
      "text/html": [
       "<div>\n",
       "<style scoped>\n",
       "    .dataframe tbody tr th:only-of-type {\n",
       "        vertical-align: middle;\n",
       "    }\n",
       "\n",
       "    .dataframe tbody tr th {\n",
       "        vertical-align: top;\n",
       "    }\n",
       "\n",
       "    .dataframe thead th {\n",
       "        text-align: right;\n",
       "    }\n",
       "</style>\n",
       "<table border=\"1\" class=\"dataframe\">\n",
       "  <thead>\n",
       "    <tr style=\"text-align: right;\">\n",
       "      <th></th>\n",
       "      <th>name</th>\n",
       "      <th>vicinity</th>\n",
       "      <th>rating</th>\n",
       "      <th>user_ratings_total</th>\n",
       "      <th>url</th>\n",
       "    </tr>\n",
       "  </thead>\n",
       "  <tbody>\n",
       "    <tr>\n",
       "      <th>5</th>\n",
       "      <td>FULANO Café de Vereda</td>\n",
       "      <td>Av. Hipólito Yrigoyen 292, Córdoba</td>\n",
       "      <td>5.0</td>\n",
       "      <td>114</td>\n",
       "      <td>https://www.google.com.ar/maps/place/?q=place_...</td>\n",
       "    </tr>\n",
       "    <tr>\n",
       "      <th>3</th>\n",
       "      <td>Bosque: grow café</td>\n",
       "      <td>Buenos Aires 971, Córdoba</td>\n",
       "      <td>4.8</td>\n",
       "      <td>171</td>\n",
       "      <td>https://www.google.com.ar/maps/place/?q=place_...</td>\n",
       "    </tr>\n",
       "    <tr>\n",
       "      <th>0</th>\n",
       "      <td>Káapeh II - Gourmet Coffee - Barista House</td>\n",
       "      <td>Obispo Trejo y Sanabria 775 5000, Córdoba</td>\n",
       "      <td>4.7</td>\n",
       "      <td>473</td>\n",
       "      <td>https://www.google.com.ar/maps/place/?q=place_...</td>\n",
       "    </tr>\n",
       "    <tr>\n",
       "      <th>1</th>\n",
       "      <td>La Vereda de Achaval - Café de Especialidad</td>\n",
       "      <td>Obispo Trejo y Sanabria 805, Córdoba</td>\n",
       "      <td>4.6</td>\n",
       "      <td>653</td>\n",
       "      <td>https://www.google.com.ar/maps/place/?q=place_...</td>\n",
       "    </tr>\n",
       "    <tr>\n",
       "      <th>6</th>\n",
       "      <td>COOFI Lunch &amp; Workcafe</td>\n",
       "      <td>Buenos Aires 864, Córdoba</td>\n",
       "      <td>4.5</td>\n",
       "      <td>298</td>\n",
       "      <td>https://www.google.com.ar/maps/place/?q=place_...</td>\n",
       "    </tr>\n",
       "    <tr>\n",
       "      <th>4</th>\n",
       "      <td>La Befana</td>\n",
       "      <td>Av. Hipólito Yrigoyen 413, Planta Baja, Edific...</td>\n",
       "      <td>4.3</td>\n",
       "      <td>616</td>\n",
       "      <td>https://www.google.com.ar/maps/place/?q=place_...</td>\n",
       "    </tr>\n",
       "    <tr>\n",
       "      <th>8</th>\n",
       "      <td>Caffè del Popolo</td>\n",
       "      <td>Av. Hipólito Yrigoyen 398, Córdoba</td>\n",
       "      <td>4.3</td>\n",
       "      <td>191</td>\n",
       "      <td>https://www.google.com.ar/maps/place/?q=place_...</td>\n",
       "    </tr>\n",
       "    <tr>\n",
       "      <th>2</th>\n",
       "      <td>Creambury Buen Pastor</td>\n",
       "      <td>Buenos Aires 601, IMM</td>\n",
       "      <td>4.0</td>\n",
       "      <td>2357</td>\n",
       "      <td>https://www.google.com.ar/maps/place/?q=place_...</td>\n",
       "    </tr>\n",
       "    <tr>\n",
       "      <th>7</th>\n",
       "      <td>good tartas, ensaladas cafe</td>\n",
       "      <td>Francisco N de Laprida 5, Córdoba</td>\n",
       "      <td>4.0</td>\n",
       "      <td>23</td>\n",
       "      <td>https://www.google.com.ar/maps/place/?q=place_...</td>\n",
       "    </tr>\n",
       "  </tbody>\n",
       "</table>\n",
       "</div>"
      ],
      "text/plain": [
       "                                          name  \\\n",
       "5                        FULANO Café de Vereda   \n",
       "3                            Bosque: grow café   \n",
       "0   Káapeh II - Gourmet Coffee - Barista House   \n",
       "1  La Vereda de Achaval - Café de Especialidad   \n",
       "6                       COOFI Lunch & Workcafe   \n",
       "4                                    La Befana   \n",
       "8                             Caffè del Popolo   \n",
       "2                        Creambury Buen Pastor   \n",
       "7                  good tartas, ensaladas cafe   \n",
       "\n",
       "                                            vicinity  rating  \\\n",
       "5                 Av. Hipólito Yrigoyen 292, Córdoba     5.0   \n",
       "3                          Buenos Aires 971, Córdoba     4.8   \n",
       "0          Obispo Trejo y Sanabria 775 5000, Córdoba     4.7   \n",
       "1               Obispo Trejo y Sanabria 805, Córdoba     4.6   \n",
       "6                          Buenos Aires 864, Córdoba     4.5   \n",
       "4  Av. Hipólito Yrigoyen 413, Planta Baja, Edific...     4.3   \n",
       "8                 Av. Hipólito Yrigoyen 398, Córdoba     4.3   \n",
       "2                              Buenos Aires 601, IMM     4.0   \n",
       "7                  Francisco N de Laprida 5, Córdoba     4.0   \n",
       "\n",
       "   user_ratings_total                                                url  \n",
       "5                 114  https://www.google.com.ar/maps/place/?q=place_...  \n",
       "3                 171  https://www.google.com.ar/maps/place/?q=place_...  \n",
       "0                 473  https://www.google.com.ar/maps/place/?q=place_...  \n",
       "1                 653  https://www.google.com.ar/maps/place/?q=place_...  \n",
       "6                 298  https://www.google.com.ar/maps/place/?q=place_...  \n",
       "4                 616  https://www.google.com.ar/maps/place/?q=place_...  \n",
       "8                 191  https://www.google.com.ar/maps/place/?q=place_...  \n",
       "2                2357  https://www.google.com.ar/maps/place/?q=place_...  \n",
       "7                  23  https://www.google.com.ar/maps/place/?q=place_...  "
      ]
     },
     "execution_count": 54,
     "metadata": {},
     "output_type": "execute_result"
    }
   ],
   "source": [
    "# De nuestra DataFrame seleccionamos el nombre del local, su dirección, el rating y la cantidad de opiniones recibidas\n",
    "\n",
    "df[['name','vicinity','rating', 'user_ratings_total', 'url']].sort_values(['rating', 'user_ratings_total'], ascending=False)"
   ]
  }
 ],
 "metadata": {
  "kernelspec": {
   "display_name": "Python 3.9.7 ('base')",
   "language": "python",
   "name": "python3"
  },
  "language_info": {
   "codemirror_mode": {
    "name": "ipython",
    "version": 3
   },
   "file_extension": ".py",
   "mimetype": "text/x-python",
   "name": "python",
   "nbconvert_exporter": "python",
   "pygments_lexer": "ipython3",
   "version": "3.9.7"
  },
  "orig_nbformat": 4,
  "vscode": {
   "interpreter": {
    "hash": "8ff486912f5ece84d30c774963ae5a495d48d4a8bb1a23c7d7fd9fa2247de7ef"
   }
  }
 },
 "nbformat": 4,
 "nbformat_minor": 2
}
